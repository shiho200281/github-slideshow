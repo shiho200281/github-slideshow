{
  "nbformat": 4,
  "nbformat_minor": 0,
  "metadata": {
    "colab": {
      "name": "1_はじめてのPython.ipynb",
      "private_outputs": true,
      "provenance": [],
      "collapsed_sections": [],
      "include_colab_link": true
    },
    "kernelspec": {
      "name": "python3",
      "display_name": "Python 3"
    }
  },
  "cells": [
    {
      "cell_type": "markdown",
      "metadata": {
        "id": "view-in-github",
        "colab_type": "text"
      },
      "source": [
        "<a href=\"https://colab.research.google.com/github/shiho200281/github-slideshow/blob/master/1_%E3%81%AF%E3%81%98%E3%82%81%E3%81%A6%E3%81%AEPython.ipynb\" target=\"_parent\"><img src=\"https://colab.research.google.com/assets/colab-badge.svg\" alt=\"Open In Colab\"/></a>"
      ]
    },
    {
      "cell_type": "markdown",
      "metadata": {
        "id": "-iSV4X-VoQ-L"
      },
      "source": [
        "# Pythonを使う準備"
      ]
    },
    {
      "cell_type": "markdown",
      "metadata": {
        "id": "X7Nxt9J_oX4-"
      },
      "source": [
        "Pythonを使ったプログラミングを行うには主に3つの方法がある。\n",
        "\n",
        "\n",
        "\n",
        "1.   PythonをPCにインストール\n",
        "2.   Jupyter Notebookをインストール\n",
        "3.   Google Colabを用いる\n",
        "\n",
        "\n",
        "詳細は付録をご覧ください。\n",
        "\n"
      ]
    },
    {
      "cell_type": "markdown",
      "metadata": {
        "id": "Wv4nU0ABSnAI"
      },
      "source": [
        "# プログラムを書いてみる"
      ]
    },
    {
      "cell_type": "markdown",
      "metadata": {
        "id": "op8KeOLSS2Fe"
      },
      "source": [
        "## 処理結果を表示する"
      ]
    },
    {
      "cell_type": "markdown",
      "metadata": {
        "id": "qJxJDmnuTHQ-"
      },
      "source": [
        "**`print()`の括弧の中に表示したいものを記述する**"
      ]
    },
    {
      "cell_type": "code",
      "metadata": {
        "id": "uQLHNkwZSX4i"
      },
      "source": [
        "print('Hello World')"
      ],
      "execution_count": null,
      "outputs": []
    },
    {
      "cell_type": "code",
      "metadata": {
        "id": "KpyE6T0dTAsa"
      },
      "source": [
        "print(\"Hello World\")"
      ],
      "execution_count": null,
      "outputs": []
    },
    {
      "cell_type": "markdown",
      "metadata": {
        "id": "T4XNvG4LW9iW"
      },
      "source": [
        "`'`や`\"`はどちらでもよい。"
      ]
    },
    {
      "cell_type": "markdown",
      "metadata": {
        "id": "qqCuIr10VN-w"
      },
      "source": [
        "## 計算を行う"
      ]
    },
    {
      "cell_type": "markdown",
      "metadata": {
        "id": "7g0cV5aLVSap"
      },
      "source": [
        "**プログラムで計算をやってみよう**"
      ]
    },
    {
      "cell_type": "code",
      "metadata": {
        "id": "8h2OYI60VakH"
      },
      "source": [
        "print(1 + 1)"
      ],
      "execution_count": null,
      "outputs": []
    },
    {
      "cell_type": "code",
      "metadata": {
        "id": "D8cU-Q4DVdDF"
      },
      "source": [
        "print(2 * 3)"
      ],
      "execution_count": null,
      "outputs": []
    },
    {
      "cell_type": "code",
      "metadata": {
        "id": "aB9covkkVgqP"
      },
      "source": [
        "print((1 + 2) * 4)"
      ],
      "execution_count": null,
      "outputs": []
    },
    {
      "cell_type": "markdown",
      "metadata": {
        "id": "Ei_HWUfaV6Sb"
      },
      "source": [
        "## 文字列を加工する"
      ]
    },
    {
      "cell_type": "markdown",
      "metadata": {
        "id": "2IIaguzzWCD3"
      },
      "source": [
        "**文字列をいろいろ加工してみよう**"
      ]
    },
    {
      "cell_type": "code",
      "metadata": {
        "id": "TUZ8E1x_WsOb"
      },
      "source": [
        "print('みなさん' + 'こんにちは')"
      ],
      "execution_count": null,
      "outputs": []
    },
    {
      "cell_type": "code",
      "metadata": {
        "id": "b9yxEQMlWBk7"
      },
      "source": [
        "print('hello'.upper())"
      ],
      "execution_count": null,
      "outputs": []
    },
    {
      "cell_type": "code",
      "metadata": {
        "id": "DCncGs4nXPDT"
      },
      "source": [
        "print('Today is Monday.'.replace('Monday', 'Sunday'))"
      ],
      "execution_count": null,
      "outputs": []
    },
    {
      "cell_type": "code",
      "metadata": {
        "id": "CBb5y0rnXcj9"
      },
      "source": [
        "print('答えは {} です。'.format(15))"
      ],
      "execution_count": null,
      "outputs": []
    },
    {
      "cell_type": "markdown",
      "metadata": {
        "id": "EkBxoxp8Wj_G"
      },
      "source": [
        "## 文字列と数値"
      ]
    },
    {
      "cell_type": "markdown",
      "metadata": {
        "id": "1FofQhVBXrW5"
      },
      "source": [
        "**プログラムの世界では`1`と`'1'`は意味が違う**"
      ]
    },
    {
      "cell_type": "code",
      "metadata": {
        "id": "4QfqY23OXnc6"
      },
      "source": [
        "print(1 + 1)"
      ],
      "execution_count": null,
      "outputs": []
    },
    {
      "cell_type": "code",
      "metadata": {
        "id": "2QPYIhWhX2LR"
      },
      "source": [
        "print('1' + '1')"
      ],
      "execution_count": null,
      "outputs": []
    },
    {
      "cell_type": "markdown",
      "metadata": {
        "id": "GbtGO1g5YkqK"
      },
      "source": [
        "私たちは書かれた文字から意図を読み取れるが、プログラムにはどのように処理をしてほしいかをハッキリ伝える必要がある。"
      ]
    },
    {
      "cell_type": "markdown",
      "metadata": {
        "id": "dhtz9vNkY8e4"
      },
      "source": [
        "## 関数 - 処理(指示)"
      ]
    },
    {
      "cell_type": "markdown",
      "metadata": {
        "id": "rLuX2XYYY_eo"
      },
      "source": [
        "**プログラムで`xxx()`は処理(指示)を意味する。関数という。**"
      ]
    },
    {
      "cell_type": "code",
      "metadata": {
        "id": "Fz5TXXqTY-6F"
      },
      "source": [
        "print('Hello World')"
      ],
      "execution_count": null,
      "outputs": []
    },
    {
      "cell_type": "markdown",
      "metadata": {
        "id": "EIiWZr4iZMVe"
      },
      "source": [
        "`'Hello World'`という文字列を**表示してください**"
      ]
    },
    {
      "cell_type": "code",
      "metadata": {
        "id": "X6vp0AZpZTke"
      },
      "source": [
        "print('Today is Monday.'.replace('Monday', 'Sunday'))"
      ],
      "execution_count": null,
      "outputs": []
    },
    {
      "cell_type": "markdown",
      "metadata": {
        "id": "npnbg-1PZcHq"
      },
      "source": [
        "`'Today is Monday'`という**文字列の中から**、`'Monday'`を探し`'Sunday'`に**書き換えてください**\n",
        "さらに、それを**表示してください**"
      ]
    },
    {
      "cell_type": "markdown",
      "metadata": {
        "id": "t5VSaIaejYKj"
      },
      "source": [
        "## データと変数"
      ]
    },
    {
      "cell_type": "markdown",
      "metadata": {
        "id": "ETdEV2p0jcUJ"
      },
      "source": [
        "**文字列や数値などのデータという。データは変数に入れて持ち運べる。**"
      ]
    },
    {
      "cell_type": "code",
      "metadata": {
        "id": "7mohpUmhj-ig"
      },
      "source": [
        "aaa = 'Hello Japan'\n",
        "print(aaa)"
      ],
      "execution_count": null,
      "outputs": []
    },
    {
      "cell_type": "markdown",
      "metadata": {
        "id": "LPKtdarMkQ15"
      },
      "source": [
        "変数にデータを入れるには`=`を使う。数学の _イクオール_ の意味は無く、右辺の _もの_ を左の _変数_ に入れるという意味。"
      ]
    },
    {
      "cell_type": "code",
      "metadata": {
        "id": "TPPXV-4ykIPi"
      },
      "source": [
        "bbb = 'みなさん こんにちは'\n",
        "ccc = bbb.replace('こんにちは', 'こんばんは')\n",
        "print(ccc)"
      ],
      "execution_count": null,
      "outputs": []
    },
    {
      "cell_type": "markdown",
      "metadata": {
        "id": "CPPasc_MksMe"
      },
      "source": [
        "変数には自由な名前を付けられる。変数には処理の結果を入れられる。"
      ]
    },
    {
      "cell_type": "markdown",
      "metadata": {
        "id": "gb4pfS36gUr2"
      },
      "source": [
        "# プログラミングの進め方"
      ]
    },
    {
      "cell_type": "markdown",
      "metadata": {
        "id": "9hlcJb-EgeU_"
      },
      "source": [
        "## プログラムの役割"
      ]
    },
    {
      "cell_type": "markdown",
      "metadata": {
        "id": "vuyW9w1CgjEu"
      },
      "source": [
        "**プログラムは小さな処理の組み合わせを作る。基本的なものは初めからたくさん準備してある。**"
      ]
    },
    {
      "cell_type": "code",
      "metadata": {
        "id": "d9Zj7Upti6y7"
      },
      "source": [
        "ddd = 'Today is Monday.'\n",
        "eee = ddd.replace('Monday', 'Sunday')\n",
        "fff = eee.upper()\n",
        "\n",
        "print(fff)"
      ],
      "execution_count": null,
      "outputs": []
    },
    {
      "cell_type": "markdown",
      "metadata": {
        "id": "ogrAHjuglRrb"
      },
      "source": [
        "1.   `'Today is Monday.'`という文字列を準備する。\n",
        "2.   `'Monday'`を`'Sunday'`に書き換える。\n",
        "3.   書き換えた文字列を大文字にする\n",
        "\n"
      ]
    },
    {
      "cell_type": "code",
      "metadata": {
        "id": "mqJyGZDKlj9r"
      },
      "source": [
        "ggg = 1 + 1\n",
        "hhh = ggg * 3\n",
        "iii = hhh / 2\n",
        "\n",
        "print(iii)"
      ],
      "execution_count": null,
      "outputs": []
    },
    {
      "cell_type": "markdown",
      "metadata": {
        "id": "AwcLua5Elvq6"
      },
      "source": [
        "1.   `1 + 1`をしたものを`ggg`という変数に入れる。\n",
        "2.   `ggg`という変数を3倍して、`hhh`という変数に入れる。\n",
        "3.   `hhh`を1/2したものを`iii`という変数に入れる。"
      ]
    },
    {
      "cell_type": "markdown",
      "metadata": {
        "id": "9MFJOKQimCXw"
      },
      "source": [
        "※ プログラムの中で、何も書かない行は何も起こらない。見やすくするために適宜改行できる。"
      ]
    },
    {
      "cell_type": "markdown",
      "metadata": {
        "id": "CAWLJJJHmUju"
      },
      "source": [
        "## ライブラリの使用"
      ]
    },
    {
      "cell_type": "markdown",
      "metadata": {
        "id": "EluOYQxlmW9X"
      },
      "source": [
        "**より複雑な処理を行うための部品はライブラリとして別途入手して使用できる。**"
      ]
    },
    {
      "cell_type": "markdown",
      "metadata": {
        "id": "JHqGsy9hmnkp"
      },
      "source": [
        "_matplotlib_ というライブラリを使って折れ線グラフを描いた。"
      ]
    },
    {
      "cell_type": "code",
      "metadata": {
        "id": "IkeoRP6zmhQP"
      },
      "source": [
        "import matplotlib.pyplot as plt\n",
        "\n",
        "plt.plot([1, 2, 3, 4], [1, 4, 2, 3])"
      ],
      "execution_count": null,
      "outputs": []
    },
    {
      "cell_type": "markdown",
      "metadata": {
        "id": "f1lYfg9RngMW"
      },
      "source": [
        "_scikit-learn_ という機械学習のライブラリを用いて、数値の分類を学習し、分析させた。"
      ]
    },
    {
      "cell_type": "code",
      "metadata": {
        "id": "BIUP8HL2nVN5"
      },
      "source": [
        "from sklearn.ensemble import RandomForestClassifier\n",
        "clf = RandomForestClassifier(random_state=0)\n",
        "\n",
        "X = [[ 1,  2,  3],\n",
        "     [11, 12, 13]]\n",
        "y = [0, 1]\n",
        "\n",
        "clf.fit(X, y)\n",
        "clf.predict(X)"
      ],
      "execution_count": null,
      "outputs": []
    },
    {
      "cell_type": "markdown",
      "metadata": {
        "id": "_r6GGyLQnqkf"
      },
      "source": [
        "プログラムを作るときはたくさんのライブラリを組み合わせて作成する。\n",
        "ライブラリにはドキュメント(使い方をまとめたもの)が作られている。これらを読み、組み合わせて自分がやりたいことを作るのがプログラミングで行う作業。\n",
        "\n",
        "\n",
        "*   Python標準ライブラリのドキュメント: https://docs.python.org/3/\n",
        "*   matplotlib: https://matplotlib.org/index.html\n",
        "*   scikit-learn: https://scikit-learn.org/stable/index.html\n",
        "\n",
        "\n",
        "\n",
        "\n",
        "\n"
      ]
    }
  ]
}